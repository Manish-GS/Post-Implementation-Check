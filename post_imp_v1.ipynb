{
 "cells": [
  {
   "cell_type": "code",
   "execution_count": 2,
   "metadata": {},
   "outputs": [],
   "source": [
    "import pandas as pd\n",
    "import numpy as np\n",
    "import openpyxl\n",
    "import sqlite3\n",
    "import os"
   ]
  },
  {
   "cell_type": "code",
   "execution_count": 3,
   "metadata": {},
   "outputs": [],
   "source": [
    "# CONSTANTS\n",
    "FILE_EXTENSION = \".txt\"\n",
    "FILEPATH = \"./files\"\n",
    "TABLES_SEPARATER = '\\n\\n'\n",
    "TABLE_DATA_SEPRATER = '\\n'\n",
    "TABLENAME_STARTING_DELIMITER = \"*** \"\n",
    "TABLENAME_ENDING_DELIMTER = \" ***\"\n",
    "COLUMNS_SEPARATER = '\\t'\n",
    "TABLE_DATA_SEPARATER = '\\t'\n",
    "\n",
    "TABLENAME_CLEANING_CHARACTERS = [(\" \", \"_\"),(\"&\", \"_\"),(\"-\", \"_\")]"
   ]
  },
  {
   "cell_type": "code",
   "execution_count": 4,
   "metadata": {},
   "outputs": [
    {
     "data": {
      "text/plain": [
       "['./files/test2After.txt', './files/test2Before.txt']"
      ]
     },
     "execution_count": 4,
     "metadata": {},
     "output_type": "execute_result"
    }
   ],
   "source": [
    "requiredFilesList = list()\n",
    "\n",
    "with os.scandir(FILEPATH) as currentDirectory:\n",
    "    for entry in currentDirectory:\n",
    "        \n",
    "        # Criteria for selecting the required files\n",
    "        criteriaSet = set()\n",
    "        criteriaSet.add(entry.name.endswith(FILE_EXTENSION))\n",
    "        criteriaSet.add((entry.name.lower().find(\"before\") > -1) or (entry.name.lower().find(\"after\") > -1))\n",
    "        if False not in criteriaSet:\n",
    "            requiredFilesList.append(entry.name)\n",
    "\n",
    "# Updating the file names to include the path\n",
    "requiredFilesList = [FILEPATH + \"/\" + file for file in requiredFilesList]\n",
    "requiredFilesList.sort()\n",
    "requiredFilesList"
   ]
  },
  {
   "cell_type": "code",
   "execution_count": 5,
   "metadata": {},
   "outputs": [],
   "source": [
    "for entry in requiredFilesList:\n",
    "\n",
    "    fileType = \"after\"\n",
    "    if entry[:-len(FILE_EXTENSION)][-1] == \"e\": fileType = \"before\"\n",
    "        \n",
    "    comparisonList = list()\n",
    "    dbName = entry[ : -len(FILE_EXTENSION) - len(fileType)]\n",
    "    con = sqlite3.connect(dbName + '.db')\n",
    "    cur = con.cursor()\n",
    "    file=open(entry,\"r\")\n",
    "    \n",
    "    for table in file.read().split(TABLES_SEPARATER):\n",
    "        \n",
    "        tableInfo = table.split(TABLE_DATA_SEPRATER)\n",
    "        if tableInfo != '' and len(tableInfo) > 1:\n",
    "            \n",
    "            tableName = tableInfo[0][len(TABLENAME_STARTING_DELIMITER) : -len(TABLENAME_ENDING_DELIMTER)]\n",
    "            tableName = tableName + \"_\" + fileType\n",
    "            for clean_char in TABLENAME_CLEANING_CHARACTERS:\n",
    "                tableName = tableName.replace(clean_char[0], clean_char[1])\n",
    "            \n",
    "            tableColumns = list()\n",
    "            for column in tableInfo[1].split(COLUMNS_SEPARATER):\n",
    "                tableColumns.append(column.replace(\".\", \"_\"))\n",
    "            tableColumns = tuple(tableColumns)\n",
    "            \n",
    "            tableCreationQuery = 'CREATE TABLE {table_name} {table_columns}'\n",
    "            tableCreationQuery = tableCreationQuery.format(table_name = tableName, table_columns = tableColumns)\n",
    "            try:\n",
    "                cur.execute(tableCreationQuery)\n",
    "            except sqlite3.OperationalError:\n",
    "                pass\n",
    "            \n",
    "            for data in tableInfo[2:]:\n",
    "                \n",
    "                row_data = tuple(data.split(TABLE_DATA_SEPARATER))\n",
    "                tableDataInsertionQuery = 'INSERT INTO {table_name} VALUES {table_data}'\n",
    "                tableDataInsertionQuery = tableDataInsertionQuery.format(table_name = tableName, table_data = row_data)\n",
    "                cur.execute(tableDataInsertionQuery)\n",
    "            \n",
    "            con.commit()             \n",
    "                "
   ]
  }
 ],
 "metadata": {
  "interpreter": {
   "hash": "220c603f019f2d62e7226453986e591ec550df177c2b48975f98b3e5f7d5e0bf"
  },
  "kernelspec": {
   "display_name": "Python 3.9.7 64-bit",
   "language": "python",
   "name": "python3"
  },
  "language_info": {
   "codemirror_mode": {
    "name": "ipython",
    "version": 3
   },
   "file_extension": ".py",
   "mimetype": "text/x-python",
   "name": "python",
   "nbconvert_exporter": "python",
   "pygments_lexer": "ipython3",
   "version": "3.9.7"
  },
  "orig_nbformat": 4
 },
 "nbformat": 4,
 "nbformat_minor": 2
}
